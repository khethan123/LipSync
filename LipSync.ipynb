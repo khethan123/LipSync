{
  "cells": [
    {
      "cell_type": "code",
      "source": [
        "#@title ##**Import necessary libraries and creste some helper functions**\n",
        "\n",
        "from IPython.display import HTML, Audio, display\n",
        "from base64 import b64encode\n",
        "import cv2\n",
        "import os\n",
        "import moviepy.editor as mp\n",
        "\n",
        "# Clear the sample_data directory\n",
        "!rm -rf /content/sample_data\n",
        "# Create a new sample_data directory\n",
        "!mkdir /content/sample_data\n",
        "\n",
        "def show_video(path):\n",
        "    \"\"\"Display a video from a given file path.\"\"\"\n",
        "    mp4 = open(path, 'rb').read()\n",
        "    data_url = \"data:video/mp4;base64,\" + b64encode(mp4).decode()\n",
        "    display(HTML(\"\"\"\n",
        "    <video width=700 controls>\n",
        "                <source src=\"%s\" type=\"video/mp4\">\n",
        "    </video>\n",
        "    \"\"\" % data_url))\n",
        "\n",
        "def get_video_resolution(video_path):\n",
        "    \"\"\"Get the resolution of a video from the provided file path.\"\"\"\n",
        "    video = cv2.VideoCapture(video_path)\n",
        "    width = int(video.get(cv2.CAP_PROP_FRAME_WIDTH))\n",
        "    height = int(video.get(cv2.CAP_PROP_FRAME_HEIGHT))\n",
        "    return (width, height)\n",
        "\n",
        "def process_video(input_video_path):\n",
        "    \"\"\"\n",
        "    Process a video, resize it to 720p if necessary, and display it.\n",
        "\n",
        "    Args:\n",
        "        input_video_path (str): File path to the input video.\n",
        "    \"\"\"\n",
        "    PATH_TO_YOUR_VIDEO = input_video_path\n",
        "    video_duration = mp.VideoFileClip(input_video_path).duration\n",
        "\n",
        "    # Remove previous input video\n",
        "    if os.path.isfile('/content/sample_data/input_vid.mp4'):\n",
        "        os.remove('/content/sample_data/input_vid.mp4')\n",
        "\n",
        "    if video_duration > 70:\n",
        "        print(\"WARNING: Video duration exceeds 70 seconds. Please upload a shorter video.\")\n",
        "        return\n",
        "\n",
        "    video_resolution = get_video_resolution(PATH_TO_YOUR_VIDEO)\n",
        "    print(f\"Video resolution: {video_resolution}\")\n",
        "\n",
        "    if video_resolution[0] >= 1920 or video_resolution[1] >= 1080:\n",
        "        print(\"Resizing video to 720p...\")\n",
        "        os.system(f\"ffmpeg -i {PATH_TO_YOUR_VIDEO} -vf scale=1280:720 -an /content/sample_data/input_vid.mp4\")\n",
        "        PATH_TO_YOUR_VIDEO = \"/content/sample_data/input_vid.mp4\"\n",
        "        print(\"Video resized to 720p\")\n",
        "    else:\n",
        "        print(\"No resizing needed\")\n",
        "        os.system(f\"ffmpeg -i {PATH_TO_YOUR_VIDEO} -c copy -an /content/sample_data/input_vid.mp4\")\n",
        "        PATH_TO_YOUR_VIDEO = \"/content/sample_data/input_vid.mp4\"\n",
        "\n",
        "    show_video(PATH_TO_YOUR_VIDEO)"
      ],
      "metadata": {
        "cellView": "form",
        "id": "6-fsgermKHqg"
      },
      "execution_count": null,
      "outputs": []
    },
    {
      "cell_type": "markdown",
      "source": [
        "Either input a video file with or without audio file but make sure to have an editied video file consisting of only the face of the speaker."
      ],
      "metadata": {
        "id": "P9BoBXRjLbDV"
      }
    },
    {
      "cell_type": "code",
      "source": [
        "#@markdown ###*Enter the path for video and audio*\n",
        "input_video_path = '10_pad_normal.mp4' #@param {type:\"string\"}\n",
        "process_video(input_video_path)\n",
        "\n",
        "# Consider only the first uploaded file\n",
        "audio_path = \"output10.wav\" #@param {type:\"string\"}\n",
        "# Use ffmpeg to copy the audio with the same quality and save it with the new filename\n",
        "os.system(f\"ffmpeg -i {audio_path} -acodec copy /content/sample_data/input_aud.wav\")\n",
        "PATH_TO_YOUR_AUDIO = \"/content/sample_data/input_aud.wav\"\n",
        "# Display the uploaded audio\n",
        "display(Audio(PATH_TO_YOUR_AUDIO))"
      ],
      "metadata": {
        "cellView": "form",
        "id": "GH2DtOoF9L-Z"
      },
      "execution_count": null,
      "outputs": []
    },
    {
      "cell_type": "markdown",
      "source": [
        "* Here `use_hd_model` means we use this model [Wav2Lip + GAN](https://iiitaphyd-my.sharepoint.com/:u:/g/personal/radrabha_m_research_iiit_ac_in/EdjI7bZlgApMqsVoEUUXpLsBxqXbn5z8VTmoxp55YNDcIA?e=n9ljGW) which produces **Slightly inferior lip-sync, but better visual quality**<br>\n",
        "\n",
        "* And if `use_hd_model` is not used then we use [Wav2Lip](https://iiitaphyd-my.sharepoint.com/:u:/g/personal/radrabha_m_research_iiit_ac_in/Eb3LEzbfuKlJiR600lQWRxgBIY27JZg80f7V9jtMfbNDaQ?e=TBFBVW) model which produces\n",
        "Highly accurate lip-sync"
      ],
      "metadata": {
        "id": "7VtkrUAELxHF"
      }
    },
    {
      "cell_type": "code",
      "source": [
        "!git clone https://github.com/justinjohn0306/Wav2Lip\n",
        "\n",
        "%cd /content/Wav2Lip\n",
        "\n",
        "#download the pretrained model\n",
        "!wget 'https://github.com/justinjohn0306/Wav2Lip/releases/download/models/wav2lip.pth' -O 'checkpoints/wav2lip.pth'\n",
        "!wget 'https://github.com/justinjohn0306/Wav2Lip/releases/download/models/wav2lip_gan.pth' -O 'checkpoints/wav2lip_gan.pth'\n",
        "!wget 'https://github.com/justinjohn0306/Wav2Lip/releases/download/models/resnet50.pth' -O 'checkpoints/resnet50.pth'\n",
        "!wget 'https://github.com/justinjohn0306/Wav2Lip/releases/download/models/mobilenet.pth' -O 'checkpoints/mobilenet.pth'\n",
        "a = !pip install https://raw.githubusercontent.com/AwaleSajil/ghc/master/ghc-1.0-py3-none-any.whl\n",
        "!pip install git+https://github.com/elliottzheng/batch-face.git@master\n",
        "\n",
        "#@title **Start Crunching and Preview Output**\n",
        "#@markdown <b>Note: Only change these, if you have to</b>\n",
        "\n",
        "%cd /content/Wav2Lip\n",
        "\n",
        "# Set up paths and variables for the output file\n",
        "output_file_path = '/content/Wav2Lip/results/result_voice.mp4'\n",
        "\n",
        "# Delete existing output file before processing, if any\n",
        "if os.path.exists(output_file_path):\n",
        "    os.remove(output_file_path)\n",
        "\n",
        "pad_top =  0#@param {type:\"integer\"}\n",
        "pad_bottom =  -5#@param {type:\"integer\"}\n",
        "pad_left =  0#@param {type:\"integer\"}\n",
        "pad_right =  0#@param {type:\"integer\"}\n",
        "rescaleFactor =  1#@param {type:\"integer\"}\n",
        "nosmooth = True #@param {type:\"boolean\"}\n",
        "#@markdown ___\n",
        "#@markdown Model selection:\n",
        "use_hd_model = False #@param {type:\"boolean\"}\n",
        "checkpoint_path = 'checkpoints/wav2lip.pth' if not use_hd_model else 'checkpoints/wav2lip_gan.pth'\n",
        "\n",
        "if nosmooth == False:\n",
        "  !python inference.py --checkpoint_path $checkpoint_path --face \"../sample_data/input_vid.mp4\" --audio \"../sample_data/input_aud.wav\" --pads $pad_top $pad_bottom $pad_left $pad_right --resize_factor $rescaleFactor\n",
        "else:\n",
        "  !python inference.py --checkpoint_path $checkpoint_path --face \"../sample_data/input_vid.mp4\" --audio \"../sample_data/input_aud.wav\" --pads $pad_top $pad_bottom $pad_left $pad_right --resize_factor $rescaleFactor --nosmooth\n",
        "\n",
        "#Preview output video\n",
        "if os.path.exists(output_file_path):\n",
        "    clear_output()\n",
        "    print(\"Final Video Preview\")\n",
        "    print(\"Download this video from\", output_file_path)\n",
        "    showVideo(output_file_path)\n",
        "else:\n",
        "    print(\"Processing failed. Output video not found.\")\n"
      ],
      "metadata": {
        "cellView": "form",
        "id": "LfNpYY8TCdpA"
      },
      "execution_count": null,
      "outputs": []
    },
    {
      "cell_type": "markdown",
      "source": [
        "A good video was found when pad_bottom was in between the range (-10, -5) for both the model that we used."
      ],
      "metadata": {
        "id": "3Ak5nalTNI-9"
      }
    }
  ],
  "metadata": {
    "colab": {
      "provenance": []
    },
    "kernelspec": {
      "display_name": "Python 3",
      "name": "python3"
    }
  },
  "nbformat": 4,
  "nbformat_minor": 0
}
